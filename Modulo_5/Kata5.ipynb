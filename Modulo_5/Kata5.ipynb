{
 "cells": [
  {
   "cell_type": "markdown",
   "metadata": {},
   "source": [
    "### Operadores aritmeticos"
   ]
  },
  {
   "cell_type": "code",
   "execution_count": 8,
   "metadata": {},
   "outputs": [
    {
     "name": "stdout",
     "output_type": "stream",
     "text": [
      "Distancia entre Tierra y Jupiter: 628949330 km (390577533.93 millas)\n"
     ]
    }
   ],
   "source": [
    "planeta1 = 149597870\n",
    "planeta2 = 778547200\n",
    "distancia = planeta2 - planeta1\n",
    "print(f'Distancia entre Tierra y Jupiter: {distancia} km ({distancia*0.621} millas)')"
   ]
  },
  {
   "cell_type": "markdown",
   "metadata": {},
   "source": [
    "### Convertir cadenas en numeros"
   ]
  },
  {
   "cell_type": "code",
   "execution_count": 11,
   "metadata": {},
   "outputs": [
    {
     "name": "stdout",
     "output_type": "stream",
     "text": [
      "Distancia 50300000 Km (31236300.0 Millas)\n"
     ]
    }
   ],
   "source": [
    "valor1 = input('Distancia 1: ')\n",
    "valor2 = input('Distancia 2: ')\n",
    "\n",
    "distancia1 = int(valor1)\n",
    "distancia2 = int(valor2)\n",
    "distanciaKM = abs(distancia2 - distancia1)\n",
    "distanciaMil = distanciaKM * 0.621\n",
    "\n",
    "print(f'Distancia {distanciaKM} Km ({distanciaMil} Millas)')"
   ]
  }
 ],
 "metadata": {
  "interpreter": {
   "hash": "acf5ff521ad6fdde4ee62cea93edb33dce3c1dee407ee126c2ffa29454d5049f"
  },
  "kernelspec": {
   "display_name": "Python 3.10.2 64-bit (windows store)",
   "language": "python",
   "name": "python3"
  },
  "language_info": {
   "codemirror_mode": {
    "name": "ipython",
    "version": 3
   },
   "file_extension": ".py",
   "mimetype": "text/x-python",
   "name": "python",
   "nbconvert_exporter": "python",
   "pygments_lexer": "ipython3",
   "version": "3.10.2"
  },
  "orig_nbformat": 4
 },
 "nbformat": 4,
 "nbformat_minor": 2
}
