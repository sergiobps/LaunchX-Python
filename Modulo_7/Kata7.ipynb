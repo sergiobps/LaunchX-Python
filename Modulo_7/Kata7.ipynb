{
 "cells": [
  {
   "cell_type": "code",
   "execution_count": 2,
   "metadata": {},
   "outputs": [
    {
     "name": "stdout",
     "output_type": "stream",
     "text": [
      "Planeta a\n",
      "Planeta b\n",
      "Planeta c\n",
      "Planeta d\n",
      "Planeta e\n",
      "Planeta f\n",
      "Planeta g\n"
     ]
    }
   ],
   "source": [
    "planets = []\n",
    "new_planet = ''\n",
    "\n",
    "while new_planet != 'listo':\n",
    "    new_planet = input('Nombre de planeta (finaliza con palabra \"listo\"')\n",
    "    if(new_planet != 'listo'):\n",
    "        planets.append(new_planet)\n",
    "\n",
    "for planet in planets:\n",
    "    print('Planeta ' + planet)"
   ]
  }
 ],
 "metadata": {
  "interpreter": {
   "hash": "acf5ff521ad6fdde4ee62cea93edb33dce3c1dee407ee126c2ffa29454d5049f"
  },
  "kernelspec": {
   "display_name": "Python 3.10.2 64-bit (windows store)",
   "language": "python",
   "name": "python3"
  },
  "language_info": {
   "codemirror_mode": {
    "name": "ipython",
    "version": 3
   },
   "file_extension": ".py",
   "mimetype": "text/x-python",
   "name": "python",
   "nbconvert_exporter": "python",
   "pygments_lexer": "ipython3",
   "version": "3.10.2"
  },
  "orig_nbformat": 4
 },
 "nbformat": 4,
 "nbformat_minor": 2
}
