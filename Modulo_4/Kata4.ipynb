{
 "cells": [
  {
   "cell_type": "code",
   "execution_count": 11,
   "metadata": {},
   "outputs": [
    {
     "name": "stdout",
     "output_type": "stream",
     "text": [
      " -60 C\n"
     ]
    }
   ],
   "source": [
    "temperatures = 'Mars Average Temperature: -60 C'\n",
    "parts = temperatures.split(':')\n",
    "print(parts[-1])"
   ]
  },
  {
   "cell_type": "markdown",
   "metadata": {},
   "source": [
    "### Transformar cadenas"
   ]
  },
  {
   "cell_type": "code",
   "execution_count": 13,
   "metadata": {},
   "outputs": [
    {
     "name": "stdout",
     "output_type": "stream",
     "text": [
      "['Interesting facts about the Moon', \" The Moon is Earth's only satellite\", ' There are several interesting facts about the Moon and how it affects life here on Earth', ' \\nOn average, the Moon moves 4cm away from the Earth every year', ' This yearly drift is not significant enough to cause immediate effects on Earth', ' The highest daylight temperature of the Moon is 127 C', '']\n",
      "average is here.\n",
      "temperature is here.\n",
      "C -> Celsius\n"
     ]
    }
   ],
   "source": [
    "text = \"\"\"Interesting facts about the Moon. The Moon is Earth's only satellite. There are several interesting facts about the Moon and how it affects life here on Earth. \n",
    "On average, the Moon moves 4cm away from the Earth every year. This yearly drift is not significant enough to cause immediate effects on Earth. The highest daylight temperature of the Moon is 127 C.\"\"\"\n",
    "\n",
    "oraciones = text.split('. ')\n",
    "print(oraciones)\n",
    "\n",
    "pista1 = 'average'\n",
    "pista2 = 'temperature'\n",
    "pista3 = 'distance'\n",
    "\n",
    "for item in oraciones:\n",
    "    if(pista1 in item): print('average is here.')\n",
    "    if(pista2 in item): print('temperature is here.')\n",
    "    if(pista3 in item): print('distance is here.')\n",
    "    if('C' in item):\n",
    "        item = item.replace(' C',' Celsius')\n",
    "        print('C -> Celsius')"
   ]
  },
  {
   "cell_type": "markdown",
   "metadata": {},
   "source": [
    "### Formatear cadenas"
   ]
  },
  {
   "cell_type": "code",
   "execution_count": 1,
   "metadata": {},
   "outputs": [
    {
     "name": "stdout",
     "output_type": "stream",
     "text": [
      "GRAVEDAD ENTRE GANÍMEDES Y MARTE\n",
      "-------------------------------------------\n",
      "Nombre del planeta: Marte \n",
      "Gravedad en Ganímedes: 1.4300000000000002 m/s2\n"
     ]
    }
   ],
   "source": [
    "name = \"Ganímedes\"\n",
    "gravity = 0.00143 # en Kms\n",
    "planet = \"Marte\"\n",
    "\n",
    "titulo = f\"GRAVEDAD ENTRE {name} Y {planet}\"\n",
    "datos = f\"\"\"-------------------------------------------\n",
    "Nombre del planeta: {planet} \n",
    "Gravedad en {name}: {gravity*1000} m/s2\"\"\"\n",
    "\n",
    "plantilla = titulo.upper() + '\\n' + datos\n",
    "print(plantilla)"
   ]
  }
 ],
 "metadata": {
  "interpreter": {
   "hash": "acf5ff521ad6fdde4ee62cea93edb33dce3c1dee407ee126c2ffa29454d5049f"
  },
  "kernelspec": {
   "display_name": "Python 3.10.2 64-bit (windows store)",
   "language": "python",
   "name": "python3"
  },
  "language_info": {
   "codemirror_mode": {
    "name": "ipython",
    "version": 3
   },
   "file_extension": ".py",
   "mimetype": "text/x-python",
   "name": "python",
   "nbconvert_exporter": "python",
   "pygments_lexer": "ipython3",
   "version": "3.10.2"
  },
  "orig_nbformat": 4
 },
 "nbformat": 4,
 "nbformat_minor": 2
}
