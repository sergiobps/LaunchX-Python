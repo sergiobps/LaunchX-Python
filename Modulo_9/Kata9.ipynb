{
 "cells": [
  {
   "cell_type": "markdown",
   "metadata": {},
   "source": [
    "### Funciones"
   ]
  },
  {
   "cell_type": "code",
   "execution_count": 20,
   "metadata": {},
   "outputs": [
    {
     "name": "stdout",
     "output_type": "stream",
     "text": [
      "1333.8333333333333\n"
     ]
    }
   ],
   "source": [
    "def combustible(tanque1, tanque2, tanque3):\n",
    "    total = tanque1 + tanque2 + tanque3\n",
    "    promedio = promediar(total)\n",
    "    return promedio\n",
    "\n",
    "def promediar(valor):\n",
    "    prom = valor / 3\n",
    "    return prom\n",
    "\n",
    "print(combustible(1000,2000,3000))"
   ]
  },
  {
   "cell_type": "markdown",
   "metadata": {},
   "source": [
    "### Argumentos"
   ]
  },
  {
   "cell_type": "code",
   "execution_count": 25,
   "metadata": {},
   "outputs": [
    {
     "name": "stdout",
     "output_type": "stream",
     "text": [
      "Informe de la mision hacia Luna\n",
      "          Hora de lanzamiento: 15:00hrs.\n",
      "          Tiempo hacia el destino: 6 horas.\n",
      "          Combustible necesario: 3700 litros.\n",
      "          \n"
     ]
    }
   ],
   "source": [
    "def informe(horaLanzamiento, destino, *tiempoHastaDestino, **combustible):\n",
    "    print(f\"\"\"Informe de la mision hacia {destino}\n",
    "          Hora de lanzamiento: {horaLanzamiento}.\n",
    "          Tiempo hacia el destino: {sum(tiempoHastaDestino)} horas.\n",
    "          Combustible necesario: {sum(combustible.values())} litros.\n",
    "          \"\"\")\n",
    "    \n",
    "informe('15:00hrs', 'Luna', 1,2,3, tanque1=1000, tanque2=1200, tanque3=1500)\n"
   ]
  }
 ],
 "metadata": {
  "interpreter": {
   "hash": "acf5ff521ad6fdde4ee62cea93edb33dce3c1dee407ee126c2ffa29454d5049f"
  },
  "kernelspec": {
   "display_name": "Python 3.10.2 64-bit (windows store)",
   "language": "python",
   "name": "python3"
  },
  "language_info": {
   "codemirror_mode": {
    "name": "ipython",
    "version": 3
   },
   "file_extension": ".py",
   "mimetype": "text/x-python",
   "name": "python",
   "nbconvert_exporter": "python",
   "pygments_lexer": "ipython3",
   "version": "3.10.2"
  },
  "orig_nbformat": 4
 },
 "nbformat": 4,
 "nbformat_minor": 2
}
