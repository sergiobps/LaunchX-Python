{
 "cells": [
  {
   "cell_type": "code",
   "execution_count": 1,
   "metadata": {},
   "outputs": [
    {
     "name": "stdout",
     "output_type": "stream",
     "text": [
      "a es menor que b\n"
     ]
    }
   ],
   "source": [
    "a = 1\n",
    "b = 2\n",
    "if a < b:\n",
    "    print('a es menor que b')"
   ]
  },
  {
   "cell_type": "code",
   "execution_count": 8,
   "metadata": {},
   "outputs": [
    {
     "name": "stdout",
     "output_type": "stream",
     "text": [
      "a y b son iguales\n",
      "a y b son cero\n"
     ]
    }
   ],
   "source": [
    "a = 0\n",
    "b = 0\n",
    "if a < b:\n",
    "    print('b es mayor que a')\n",
    "elif(a > b):\n",
    "    print('a es mayor que b')\n",
    "else:\n",
    "    print('a y b son iguales')\n",
    "    if a == 0:\n",
    "        print('a y b son cero')"
   ]
  },
  {
   "cell_type": "markdown",
   "metadata": {},
   "source": [
    "#Advertencia de asteroide"
   ]
  },
  {
   "cell_type": "code",
   "execution_count": 23,
   "metadata": {},
   "outputs": [
    {
     "name": "stdout",
     "output_type": "stream",
     "text": [
      "Rayo de luz visible\n",
      "¡PELIGRO INMINENTE! Posible colision con asteroide.\n",
      "El asteroide golpeara la tierra y causara mucho daño\n"
     ]
    }
   ],
   "source": [
    "velocidadAsteroide = 49\n",
    "tamanoAsteroide = 100\n",
    "\n",
    "if velocidadAsteroide >= 20:\n",
    "    print('Rayo de luz visible')\n",
    "elif velocidadAsteroide < 20:\n",
    "    print('No se ve nada en el cielo.')\n",
    "\n",
    "if velocidadAsteroide >= 25:\n",
    "    print('¡PELIGRO INMINENTE! Posible colision con asteroide.')\n",
    "    if tamanoAsteroide < 25:\n",
    "        print('El asteroide se quemo en la atmosfera.')\n",
    "    else:\n",
    "        if tamanoAsteroide > 25 and tamanoAsteroide < 1000:\n",
    "            print('El asteroide golpeara la tierra y causara mucho daño')\n",
    "        else:\n",
    "            print('El asteroide no causara mucho daño')\n",
    "else:\n",
    "    print('No se detectaron amenazas espaciales.')\n",
    "    "
   ]
  }
 ],
 "metadata": {
  "interpreter": {
   "hash": "acf5ff521ad6fdde4ee62cea93edb33dce3c1dee407ee126c2ffa29454d5049f"
  },
  "kernelspec": {
   "display_name": "Python 3.10.2 64-bit (windows store)",
   "language": "python",
   "name": "python3"
  },
  "language_info": {
   "codemirror_mode": {
    "name": "ipython",
    "version": 3
   },
   "file_extension": ".py",
   "mimetype": "text/x-python",
   "name": "python",
   "nbconvert_exporter": "python",
   "pygments_lexer": "ipython3",
   "version": "3.10.2"
  },
  "orig_nbformat": 4
 },
 "nbformat": 4,
 "nbformat_minor": 2
}
